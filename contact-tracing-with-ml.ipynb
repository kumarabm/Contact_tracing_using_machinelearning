{
 "cells": [
  {
   "cell_type": "markdown",
   "metadata": {
    "papermill": {
     "duration": 0.012196,
     "end_time": "2021-03-02T05:12:21.345615",
     "exception": false,
     "start_time": "2021-03-02T05:12:21.333419",
     "status": "completed"
    },
    "tags": []
   },
   "source": [
    "Contact tracing is a process used by public health ministries to help stop the spread of infectious disease such as COVID-19."
   ]
  },
  {
   "cell_type": "code",
   "execution_count": 1,
   "metadata": {
    "execution": {
     "iopub.execute_input": "2021-03-02T05:12:21.372465Z",
     "iopub.status.busy": "2021-03-02T05:12:21.371492Z",
     "iopub.status.idle": "2021-03-02T05:12:23.135732Z",
     "shell.execute_reply": "2021-03-02T05:12:23.134915Z"
    },
    "papermill": {
     "duration": 1.778778,
     "end_time": "2021-03-02T05:12:23.135981",
     "exception": false,
     "start_time": "2021-03-02T05:12:21.357203",
     "status": "completed"
    },
    "scrolled": true,
    "tags": []
   },
   "outputs": [
    {
     "data": {
      "text/html": [
       "<div>\n",
       "<style scoped>\n",
       "    .dataframe tbody tr th:only-of-type {\n",
       "        vertical-align: middle;\n",
       "    }\n",
       "\n",
       "    .dataframe tbody tr th {\n",
       "        vertical-align: top;\n",
       "    }\n",
       "\n",
       "    .dataframe thead th {\n",
       "        text-align: right;\n",
       "    }\n",
       "</style>\n",
       "<table border=\"1\" class=\"dataframe\">\n",
       "  <thead>\n",
       "    <tr style=\"text-align: right;\">\n",
       "      <th></th>\n",
       "      <th>id</th>\n",
       "      <th>timestamp</th>\n",
       "      <th>latitude</th>\n",
       "      <th>longitude</th>\n",
       "    </tr>\n",
       "  </thead>\n",
       "  <tbody>\n",
       "    <tr>\n",
       "      <th>0</th>\n",
       "      <td>David</td>\n",
       "      <td>2020-07-04 15:35:30</td>\n",
       "      <td>13.148953</td>\n",
       "      <td>77.593651</td>\n",
       "    </tr>\n",
       "    <tr>\n",
       "      <th>1</th>\n",
       "      <td>David</td>\n",
       "      <td>2020-07-04 16:35:30</td>\n",
       "      <td>13.222397</td>\n",
       "      <td>77.652828</td>\n",
       "    </tr>\n",
       "    <tr>\n",
       "      <th>2</th>\n",
       "      <td>Frank</td>\n",
       "      <td>2020-07-04 14:35:30</td>\n",
       "      <td>13.236507</td>\n",
       "      <td>77.693792</td>\n",
       "    </tr>\n",
       "    <tr>\n",
       "      <th>3</th>\n",
       "      <td>Carol</td>\n",
       "      <td>2020-07-04 21:35:30</td>\n",
       "      <td>13.163716</td>\n",
       "      <td>77.562842</td>\n",
       "    </tr>\n",
       "    <tr>\n",
       "      <th>4</th>\n",
       "      <td>Ivan</td>\n",
       "      <td>2020-07-04 22:35:30</td>\n",
       "      <td>13.232095</td>\n",
       "      <td>77.580273</td>\n",
       "    </tr>\n",
       "  </tbody>\n",
       "</table>\n",
       "</div>"
      ],
      "text/plain": [
       "      id           timestamp   latitude  longitude\n",
       "0  David 2020-07-04 15:35:30  13.148953  77.593651\n",
       "1  David 2020-07-04 16:35:30  13.222397  77.652828\n",
       "2  Frank 2020-07-04 14:35:30  13.236507  77.693792\n",
       "3  Carol 2020-07-04 21:35:30  13.163716  77.562842\n",
       "4   Ivan 2020-07-04 22:35:30  13.232095  77.580273"
      ]
     },
     "execution_count": 1,
     "metadata": {},
     "output_type": "execute_result"
    }
   ],
   "source": [
    "import numpy as np\n",
    "import pandas as pd\n",
    "import matplotlib.pyplot as plt\n",
    "import seaborn as sns\n",
    "%matplotlib inline\n",
    "import datetime as dt\n",
    "from sklearn.cluster import DBSCAN\n",
    "df = pd.read_json('C:/Users/USER/Downloads/livedata.json')\n",
    "df.head()"
   ]
  },
  {
   "cell_type": "code",
   "execution_count": null,
   "metadata": {},
   "outputs": [],
   "source": [
    "#positions of every person every time stamp"
   ]
  },
  {
   "cell_type": "code",
   "execution_count": 4,
   "metadata": {
    "scrolled": true
   },
   "outputs": [
    {
     "data": {
      "text/plain": [
       "100"
      ]
     },
     "execution_count": 4,
     "metadata": {},
     "output_type": "execute_result"
    }
   ],
   "source": [
    "df.shape[0]"
   ]
  },
  {
   "cell_type": "code",
   "execution_count": 5,
   "metadata": {},
   "outputs": [
    {
     "data": {
      "text/plain": [
       "(100, 4)"
      ]
     },
     "execution_count": 5,
     "metadata": {},
     "output_type": "execute_result"
    }
   ],
   "source": [
    "df.shape"
   ]
  },
  {
   "cell_type": "code",
   "execution_count": 49,
   "metadata": {},
   "outputs": [
    {
     "data": {
      "text/plain": [
       "Index(['id', 'timestamp', 'latitude', 'longitude'], dtype='object')"
      ]
     },
     "execution_count": 49,
     "metadata": {},
     "output_type": "execute_result"
    }
   ],
   "source": [
    "#df.columns there are 4 cols like id,timestamp,latitude,longitude\n"
   ]
  },
  {
   "cell_type": "code",
   "execution_count": 50,
   "metadata": {
    "execution": {
     "iopub.execute_input": "2021-03-02T05:12:23.167560Z",
     "iopub.status.busy": "2021-03-02T05:12:23.166710Z",
     "iopub.status.idle": "2021-03-02T05:12:23.172140Z",
     "shell.execute_reply": "2021-03-02T05:12:23.171481Z"
    },
    "papermill": {
     "duration": 0.023931,
     "end_time": "2021-03-02T05:12:23.172282",
     "exception": false,
     "start_time": "2021-03-02T05:12:23.148351",
     "status": "completed"
    },
    "tags": []
   },
   "outputs": [
    {
     "data": {
      "text/plain": [
       "(77.5533811, 77.7054541, 13.0102837, 13.2496455)"
      ]
     },
     "execution_count": 50,
     "metadata": {},
     "output_type": "execute_result"
    }
   ],
   "source": [
    "BBox = (df.longitude.min(),df.longitude.max(),df.latitude.min(), df.latitude.max())\n",
    "BBox\n",
    "#i find the minimum longitude value,max longitude value,min,max value"
   ]
  },
  {
   "cell_type": "code",
   "execution_count": 6,
   "metadata": {
    "execution": {
     "iopub.execute_input": "2021-03-02T05:12:23.203928Z",
     "iopub.status.busy": "2021-03-02T05:12:23.203233Z",
     "iopub.status.idle": "2021-03-02T05:12:23.665729Z",
     "shell.execute_reply": "2021-03-02T05:12:23.666257Z"
    },
    "papermill": {
     "duration": 0.481683,
     "end_time": "2021-03-02T05:12:23.666432",
     "exception": false,
     "start_time": "2021-03-02T05:12:23.184749",
     "status": "completed"
    },
    "tags": []
   },
   "outputs": [],
   "source": [
    "# banglore_m = plt.imread('../input/bangalore-map/map.png')\n",
    "# fig, ax = plt.subplots(figsize = (10,10))\n",
    "# ax.scatter(df.longitude, df.latitude)\n",
    "# ax.set_title('Plotting Spatial Data on Map')\n",
    "# ax.set_xlim(BBox[0],BBox[1])\n",
    "# ax.set_ylim(BBox[2],BBox[3])\n",
    "# ax.imshow(banglore_m, extent = BBox, aspect= 'equal')\n",
    "# plt.show()#take pic from kag"
   ]
  },
  {
   "cell_type": "code",
   "execution_count": 51,
   "metadata": {
    "execution": {
     "iopub.execute_input": "2021-03-02T05:12:23.746088Z",
     "iopub.status.busy": "2021-03-02T05:12:23.743739Z",
     "iopub.status.idle": "2021-03-02T05:12:24.210150Z",
     "shell.execute_reply": "2021-03-02T05:12:24.209453Z"
    },
    "papermill": {
     "duration": 0.520426,
     "end_time": "2021-03-02T05:12:24.210295",
     "exception": false,
     "start_time": "2021-03-02T05:12:23.689869",
     "status": "completed"
    },
    "tags": []
   },
   "outputs": [
    {
     "data": {
      "image/png": "[encoded data removed]",
      "text/plain": [
       "<Figure size 720x720 with 1 Axes>"
      ]
     },
     "metadata": {
      "needs_background": "light"
     },
     "output_type": "display_data"
    }
   ],
   "source": [
    "plt.figure(figsize=(10,10))\n",
    "sns.scatterplot(x=\"latitude\",y=\"longitude\",data=df,hue=\"id\")\n",
    "plt.legend(bbox_to_anchor= [1, 0.8])\n",
    "plt.grid()"
   ]
  },
  {
   "cell_type": "code",
   "execution_count": 7,
   "metadata": {
    "execution": {
     "iopub.execute_input": "2021-03-02T05:12:24.271843Z",
     "iopub.status.busy": "2021-03-02T05:12:24.270720Z",
     "iopub.status.idle": "2021-03-02T05:12:24.275853Z",
     "shell.execute_reply": "2021-03-02T05:12:24.275217Z"
    },
    "papermill": {
     "duration": 0.041701,
     "end_time": "2021-03-02T05:12:24.275996",
     "exception": false,
     "start_time": "2021-03-02T05:12:24.234295",
     "status": "completed"
    },
    "tags": []
   },
   "outputs": [
    {
     "data": {
      "text/html": [
       "<div>\n",
       "<style scoped>\n",
       "    .dataframe tbody tr th:only-of-type {\n",
       "        vertical-align: middle;\n",
       "    }\n",
       "\n",
       "    .dataframe tbody tr th {\n",
       "        vertical-align: top;\n",
       "    }\n",
       "\n",
       "    .dataframe thead th {\n",
       "        text-align: right;\n",
       "    }\n",
       "</style>\n",
       "<table border=\"1\" class=\"dataframe\">\n",
       "  <thead>\n",
       "    <tr style=\"text-align: right;\">\n",
       "      <th></th>\n",
       "      <th>id</th>\n",
       "      <th>timestamp</th>\n",
       "      <th>latitude</th>\n",
       "      <th>longitude</th>\n",
       "    </tr>\n",
       "  </thead>\n",
       "  <tbody>\n",
       "    <tr>\n",
       "      <th>4</th>\n",
       "      <td>Ivan</td>\n",
       "      <td>2020-07-04 22:35:30</td>\n",
       "      <td>13.232095</td>\n",
       "      <td>77.580273</td>\n",
       "    </tr>\n",
       "    <tr>\n",
       "      <th>16</th>\n",
       "      <td>Ivan</td>\n",
       "      <td>2020-07-04 20:35:30</td>\n",
       "      <td>13.241058</td>\n",
       "      <td>77.632370</td>\n",
       "    </tr>\n",
       "    <tr>\n",
       "      <th>18</th>\n",
       "      <td>Ivan</td>\n",
       "      <td>2020-07-04 12:35:30</td>\n",
       "      <td>13.194985</td>\n",
       "      <td>77.594589</td>\n",
       "    </tr>\n",
       "    <tr>\n",
       "      <th>20</th>\n",
       "      <td>Ivan</td>\n",
       "      <td>2020-07-04 21:35:30</td>\n",
       "      <td>13.055701</td>\n",
       "      <td>77.628720</td>\n",
       "    </tr>\n",
       "    <tr>\n",
       "      <th>22</th>\n",
       "      <td>Ivan</td>\n",
       "      <td>2020-07-04 13:35:30</td>\n",
       "      <td>13.168495</td>\n",
       "      <td>77.676476</td>\n",
       "    </tr>\n",
       "  </tbody>\n",
       "</table>\n",
       "</div>"
      ],
      "text/plain": [
       "      id           timestamp   latitude  longitude\n",
       "4   Ivan 2020-07-04 22:35:30  13.232095  77.580273\n",
       "16  Ivan 2020-07-04 20:35:30  13.241058  77.632370\n",
       "18  Ivan 2020-07-04 12:35:30  13.194985  77.594589\n",
       "20  Ivan 2020-07-04 21:35:30  13.055701  77.628720\n",
       "22  Ivan 2020-07-04 13:35:30  13.168495  77.676476"
      ]
     },
     "execution_count": 7,
     "metadata": {},
     "output_type": "execute_result"
    }
   ],
   "source": [
    "a=df[df.id=='Ivan']\n",
    "a.head()"
   ]
  },
  {
   "cell_type": "code",
   "execution_count": 6,
   "metadata": {
    "execution": {
     "iopub.execute_input": "2021-03-02T05:12:24.332479Z",
     "iopub.status.busy": "2021-03-02T05:12:24.331787Z",
     "iopub.status.idle": "2021-03-02T05:12:24.335636Z",
     "shell.execute_reply": "2021-03-02T05:12:24.335097Z"
    },
    "papermill": {
     "duration": 0.034831,
     "end_time": "2021-03-02T05:12:24.335776",
     "exception": false,
     "start_time": "2021-03-02T05:12:24.300945",
     "status": "completed"
    },
    "tags": []
   },
   "outputs": [],
   "source": [
    "# def generateBaseMap(default_location, default_zoom_start=12):\n",
    "#     base_map = folium.Map(location=default_location, control_scale=True, zoom_start=default_zoom_start)\n",
    "#     return base_map\n",
    "# understand the meaning of th code"
   ]
  },
  {
   "cell_type": "code",
   "execution_count": 8,
   "metadata": {
    "execution": {
     "iopub.execute_input": "2021-03-02T05:12:24.401530Z",
     "iopub.status.busy": "2021-03-02T05:12:24.399112Z",
     "iopub.status.idle": "2021-03-02T05:12:24.406632Z",
     "shell.execute_reply": "2021-03-02T05:12:24.405564Z"
    },
    "papermill": {
     "duration": 0.046591,
     "end_time": "2021-03-02T05:12:24.406860",
     "exception": false,
     "start_time": "2021-03-02T05:12:24.360269",
     "status": "completed"
    },
    "tags": []
   },
   "outputs": [
    {
     "name": "stdout",
     "output_type": "stream",
     "text": [
      "<class 'pandas.core.frame.DataFrame'>\n",
      "RangeIndex: 100 entries, 0 to 99\n",
      "Data columns (total 4 columns):\n",
      " #   Column     Non-Null Count  Dtype         \n",
      "---  ------     --------------  -----         \n",
      " 0   id         100 non-null    object        \n",
      " 1   timestamp  100 non-null    datetime64[ns]\n",
      " 2   latitude   100 non-null    float64       \n",
      " 3   longitude  100 non-null    float64       \n",
      "dtypes: datetime64[ns](1), float64(2), object(1)\n",
      "memory usage: 3.2+ KB\n"
     ]
    }
   ],
   "source": [
    "df.info()"
   ]
  },
  {
   "cell_type": "code",
   "execution_count": 8,
   "metadata": {
    "execution": {
     "iopub.execute_input": "2021-03-02T05:12:24.465525Z",
     "iopub.status.busy": "2021-03-02T05:12:24.464851Z",
     "iopub.status.idle": "2021-03-02T05:12:24.468868Z",
     "shell.execute_reply": "2021-03-02T05:12:24.468296Z"
    },
    "papermill": {
     "duration": 0.036657,
     "end_time": "2021-03-02T05:12:24.469011",
     "exception": false,
     "start_time": "2021-03-02T05:12:24.432354",
     "status": "completed"
    },
    "tags": []
   },
   "outputs": [
    {
     "data": {
      "text/plain": [
       "False    100\n",
       "dtype: int64"
      ]
     },
     "execution_count": 8,
     "metadata": {},
     "output_type": "execute_result"
    }
   ],
   "source": [
    "df.duplicated().value_counts()"
   ]
  },
  {
   "cell_type": "code",
   "execution_count": 53,
   "metadata": {
    "execution": {
     "iopub.execute_input": "2021-03-02T05:12:24.525243Z",
     "iopub.status.busy": "2021-03-02T05:12:24.524511Z",
     "iopub.status.idle": "2021-03-02T05:12:24.531308Z",
     "shell.execute_reply": "2021-03-02T05:12:24.530631Z"
    },
    "papermill": {
     "duration": 0.03558,
     "end_time": "2021-03-02T05:12:24.531452",
     "exception": false,
     "start_time": "2021-03-02T05:12:24.495872",
     "status": "completed"
    },
    "tags": []
   },
   "outputs": [],
   "source": [
    "df=df.drop_duplicates()"
   ]
  },
  {
   "cell_type": "code",
   "execution_count": 54,
   "metadata": {
    "execution": {
     "iopub.execute_input": "2021-03-02T05:12:24.586760Z",
     "iopub.status.busy": "2021-03-02T05:12:24.586064Z",
     "iopub.status.idle": "2021-03-02T05:12:24.594770Z",
     "shell.execute_reply": "2021-03-02T05:12:24.594270Z"
    },
    "papermill": {
     "duration": 0.036934,
     "end_time": "2021-03-02T05:12:24.594936",
     "exception": false,
     "start_time": "2021-03-02T05:12:24.558002",
     "status": "completed"
    },
    "scrolled": true,
    "tags": []
   },
   "outputs": [
    {
     "data": {
      "text/plain": [
       "id           0\n",
       "timestamp    0\n",
       "latitude     0\n",
       "longitude    0\n",
       "dtype: int64"
      ]
     },
     "execution_count": 54,
     "metadata": {},
     "output_type": "execute_result"
    }
   ],
   "source": [
    "df.isnull().sum()"
   ]
  },
  {
   "cell_type": "code",
   "execution_count": 22,
   "metadata": {
    "scrolled": true
   },
   "outputs": [
    {
     "data": {
      "text/plain": [
       "id                   object\n",
       "timestamp    datetime64[ns]\n",
       "latitude            float64\n",
       "longitude           float64\n",
       "cluster               int64\n",
       "hour                  int64\n",
       "dtype: object"
      ]
     },
     "execution_count": 22,
     "metadata": {},
     "output_type": "execute_result"
    }
   ],
   "source": [
    "df.dtypes"
   ]
  },
  {
   "cell_type": "code",
   "execution_count": 58,
   "metadata": {},
   "outputs": [
    {
     "data": {
      "text/plain": [
       "Timestamp('2020-07-04 15:35:30')"
      ]
     },
     "execution_count": 58,
     "metadata": {},
     "output_type": "execute_result"
    }
   ],
   "source": [
    "df.timestamp.head()[0]"
   ]
  },
  {
   "cell_type": "code",
   "execution_count": 15,
   "metadata": {
    "execution": {
     "iopub.execute_input": "2021-03-02T05:12:24.663515Z",
     "iopub.status.busy": "2021-03-02T05:12:24.662852Z",
     "iopub.status.idle": "2021-03-02T05:12:24.666297Z",
     "shell.execute_reply": "2021-03-02T05:12:24.666892Z"
    },
    "papermill": {
     "duration": 0.04611,
     "end_time": "2021-03-02T05:12:24.667061",
     "exception": false,
     "start_time": "2021-03-02T05:12:24.620951",
     "status": "completed"
    },
    "scrolled": false,
    "tags": []
   },
   "outputs": [
    {
     "data": {
      "text/html": [
       "<div>\n",
       "<style scoped>\n",
       "    .dataframe tbody tr th:only-of-type {\n",
       "        vertical-align: middle;\n",
       "    }\n",
       "\n",
       "    .dataframe tbody tr th {\n",
       "        vertical-align: top;\n",
       "    }\n",
       "\n",
       "    .dataframe thead th {\n",
       "        text-align: right;\n",
       "    }\n",
       "</style>\n",
       "<table border=\"1\" class=\"dataframe\">\n",
       "  <thead>\n",
       "    <tr style=\"text-align: right;\">\n",
       "      <th></th>\n",
       "      <th>id</th>\n",
       "      <th>timestamp</th>\n",
       "      <th>latitude</th>\n",
       "      <th>longitude</th>\n",
       "      <th>cluster</th>\n",
       "      <th>hour</th>\n",
       "    </tr>\n",
       "  </thead>\n",
       "  <tbody>\n",
       "    <tr>\n",
       "      <th>0</th>\n",
       "      <td>David</td>\n",
       "      <td>2020-07-04 15:35:30</td>\n",
       "      <td>13.148953</td>\n",
       "      <td>77.593651</td>\n",
       "      <td>-1</td>\n",
       "      <td>16</td>\n",
       "    </tr>\n",
       "    <tr>\n",
       "      <th>1</th>\n",
       "      <td>David</td>\n",
       "      <td>2020-07-04 16:35:30</td>\n",
       "      <td>13.222397</td>\n",
       "      <td>77.652828</td>\n",
       "      <td>-1</td>\n",
       "      <td>17</td>\n",
       "    </tr>\n",
       "    <tr>\n",
       "      <th>2</th>\n",
       "      <td>Frank</td>\n",
       "      <td>2020-07-04 14:35:30</td>\n",
       "      <td>13.236507</td>\n",
       "      <td>77.693792</td>\n",
       "      <td>-1</td>\n",
       "      <td>15</td>\n",
       "    </tr>\n",
       "    <tr>\n",
       "      <th>3</th>\n",
       "      <td>Carol</td>\n",
       "      <td>2020-07-04 21:35:30</td>\n",
       "      <td>13.163716</td>\n",
       "      <td>77.562842</td>\n",
       "      <td>-1</td>\n",
       "      <td>22</td>\n",
       "    </tr>\n",
       "    <tr>\n",
       "      <th>4</th>\n",
       "      <td>Ivan</td>\n",
       "      <td>2020-07-04 22:35:30</td>\n",
       "      <td>13.232095</td>\n",
       "      <td>77.580273</td>\n",
       "      <td>-1</td>\n",
       "      <td>23</td>\n",
       "    </tr>\n",
       "    <tr>\n",
       "      <th>5</th>\n",
       "      <td>Erin</td>\n",
       "      <td>2020-07-04 14:35:30</td>\n",
       "      <td>13.132235</td>\n",
       "      <td>77.694382</td>\n",
       "      <td>-1</td>\n",
       "      <td>15</td>\n",
       "    </tr>\n",
       "    <tr>\n",
       "      <th>6</th>\n",
       "      <td>Bob</td>\n",
       "      <td>2020-07-04 13:35:30</td>\n",
       "      <td>13.224501</td>\n",
       "      <td>77.668313</td>\n",
       "      <td>-1</td>\n",
       "      <td>14</td>\n",
       "    </tr>\n",
       "    <tr>\n",
       "      <th>7</th>\n",
       "      <td>Grace</td>\n",
       "      <td>2020-07-04 14:35:30</td>\n",
       "      <td>13.142778</td>\n",
       "      <td>77.691560</td>\n",
       "      <td>-1</td>\n",
       "      <td>15</td>\n",
       "    </tr>\n",
       "    <tr>\n",
       "      <th>8</th>\n",
       "      <td>Alice</td>\n",
       "      <td>2020-07-04 22:35:30</td>\n",
       "      <td>13.090368</td>\n",
       "      <td>77.561579</td>\n",
       "      <td>-1</td>\n",
       "      <td>23</td>\n",
       "    </tr>\n",
       "    <tr>\n",
       "      <th>9</th>\n",
       "      <td>Frank</td>\n",
       "      <td>2020-07-04 12:35:30</td>\n",
       "      <td>13.208293</td>\n",
       "      <td>77.664607</td>\n",
       "      <td>-1</td>\n",
       "      <td>13</td>\n",
       "    </tr>\n",
       "  </tbody>\n",
       "</table>\n",
       "</div>"
      ],
      "text/plain": [
       "      id           timestamp   latitude  longitude  cluster  hour\n",
       "0  David 2020-07-04 15:35:30  13.148953  77.593651       -1    16\n",
       "1  David 2020-07-04 16:35:30  13.222397  77.652828       -1    17\n",
       "2  Frank 2020-07-04 14:35:30  13.236507  77.693792       -1    15\n",
       "3  Carol 2020-07-04 21:35:30  13.163716  77.562842       -1    22\n",
       "4   Ivan 2020-07-04 22:35:30  13.232095  77.580273       -1    23\n",
       "5   Erin 2020-07-04 14:35:30  13.132235  77.694382       -1    15\n",
       "6    Bob 2020-07-04 13:35:30  13.224501  77.668313       -1    14\n",
       "7  Grace 2020-07-04 14:35:30  13.142778  77.691560       -1    15\n",
       "8  Alice 2020-07-04 22:35:30  13.090368  77.561579       -1    23\n",
       "9  Frank 2020-07-04 12:35:30  13.208293  77.664607       -1    13"
      ]
     },
     "execution_count": 15,
     "metadata": {},
     "output_type": "execute_result"
    }
   ],
   "source": [
    "# Converting column to datetime\n",
    "df['timestamp']=pd.to_datetime(df['timestamp'],format='%Y-%m-%d %H:%M:%S')#already the date column is in date format only\n",
    "# Creating hour column\n",
    "df['hour']=df['timestamp'].apply(lambda x: x.hour+1)\n",
    "df.head(10)"
   ]
  },
  {
   "cell_type": "code",
   "execution_count": 19,
   "metadata": {
    "scrolled": true
   },
   "outputs": [
    {
     "data": {
      "text/plain": [
       "array([-1,  0], dtype=int64)"
      ]
     },
     "execution_count": 19,
     "metadata": {},
     "output_type": "execute_result"
    }
   ],
   "source": [
    "df.cluster.unique()"
   ]
  },
  {
   "cell_type": "code",
   "execution_count": null,
   "metadata": {},
   "outputs": [],
   "source": []
  },
  {
   "cell_type": "code",
   "execution_count": 63,
   "metadata": {
    "execution": {
     "iopub.execute_input": "2021-03-02T05:12:24.723380Z",
     "iopub.status.busy": "2021-03-02T05:12:24.722728Z",
     "iopub.status.idle": "2021-03-02T05:12:24.743991Z",
     "shell.execute_reply": "2021-03-02T05:12:24.743384Z"
    },
    "papermill": {
     "duration": 0.050772,
     "end_time": "2021-03-02T05:12:24.744143",
     "exception": false,
     "start_time": "2021-03-02T05:12:24.693371",
     "status": "completed"
    },
    "tags": []
   },
   "outputs": [],
   "source": [
    "# df2=pd.DataFrame(df.groupby(['hour','id'])['timestamp'].max())\n",
    "# #df2.reset_index(inplace=True) why da?\n",
    "# df2.head() # data manim codes ok d not exe"
   ]
  },
  {
   "cell_type": "code",
   "execution_count": 62,
   "metadata": {
    "execution": {
     "iopub.execute_input": "2021-03-02T05:12:24.821045Z",
     "iopub.status.busy": "2021-03-02T05:12:24.820365Z",
     "iopub.status.idle": "2021-03-02T05:12:24.825380Z",
     "shell.execute_reply": "2021-03-02T05:12:24.824471Z"
    },
    "papermill": {
     "duration": 0.05398,
     "end_time": "2021-03-02T05:12:24.825549",
     "exception": false,
     "start_time": "2021-03-02T05:12:24.771569",
     "status": "completed"
    },
    "tags": []
   },
   "outputs": [],
   "source": [
    "# df3=pd.merge(df2,df,left_on=['hour','id','timestamp'],right_on=['hour','id','timestamp'])\n",
    "# df3.head() # data manim codes ok  d not exe"
   ]
  },
  {
   "cell_type": "code",
   "execution_count": 14,
   "metadata": {
    "execution": {
     "iopub.execute_input": "2021-03-02T05:12:24.885375Z",
     "iopub.status.busy": "2021-03-02T05:12:24.884660Z",
     "iopub.status.idle": "2021-03-02T05:12:24.922890Z",
     "shell.execute_reply": "2021-03-02T05:12:24.922295Z"
    },
    "papermill": {
     "duration": 0.069363,
     "end_time": "2021-03-02T05:12:24.923049",
     "exception": false,
     "start_time": "2021-03-02T05:12:24.853686",
     "status": "completed"
    },
    "tags": []
   },
   "outputs": [],
   "source": [
    "# lat_long_list = []\n",
    "# for i in range(1,25):\n",
    "#     temp=[]\n",
    "#     for index, instance in df3[df3['hour'] == i].iterrows():\n",
    "#         temp.append([instance['latitude'],instance['longitude']])\n",
    "#     lat_long_list.append(temp)"
   ]
  },
  {
   "cell_type": "code",
   "execution_count": 9,
   "metadata": {},
   "outputs": [],
   "source": [
    "from branca.element import Element, Figure, Html, MacroElement\n"
   ]
  },
  {
   "cell_type": "code",
   "execution_count": 10,
   "metadata": {
    "execution": {
     "iopub.execute_input": "2021-03-02T05:12:24.985236Z",
     "iopub.status.busy": "2021-03-02T05:12:24.984453Z",
     "iopub.status.idle": "2021-03-02T05:12:25.147579Z",
     "shell.execute_reply": "2021-03-02T05:12:25.148280Z"
    },
    "papermill": {
     "duration": 0.19735,
     "end_time": "2021-03-02T05:12:25.148463",
     "exception": false,
     "start_time": "2021-03-02T05:12:24.951113",
     "status": "completed"
    },
    "tags": []
   },
   "outputs": [],
   "source": [
    "\n",
    "fig=Figure(width=550,height=350)"
   ]
  },
  {
   "cell_type": "code",
   "execution_count": 16,
   "metadata": {
    "execution": {
     "iopub.execute_input": "2021-03-02T05:12:25.222854Z",
     "iopub.status.busy": "2021-03-02T05:12:25.222039Z",
     "iopub.status.idle": "2021-03-02T05:12:34.346658Z",
     "shell.execute_reply": "2021-03-02T05:12:34.345768Z"
    },
    "papermill": {
     "duration": 9.168644,
     "end_time": "2021-03-02T05:12:34.346855",
     "exception": false,
     "start_time": "2021-03-02T05:12:25.178211",
     "status": "completed"
    },
    "tags": []
   },
   "outputs": [
    {
     "name": "stdout",
     "output_type": "stream",
     "text": [
      "Collecting folium\n",
      "  Downloading folium-0.14.0-py2.py3-none-any.whl (102 kB)\n",
      "Requirement already satisfied: requests in c:\\users\\user\\anaconda\\lib\\site-packages (from folium) (2.28.2)\n",
      "Requirement already satisfied: jinja2>=2.9 in c:\\users\\user\\anaconda\\lib\\site-packages (from folium) (2.11.2)\n",
      "Collecting branca>=0.6.0\n",
      "  Downloading branca-0.6.0-py3-none-any.whl (24 kB)\n",
      "Requirement already satisfied: numpy in c:\\users\\user\\anaconda\\lib\\site-packages (from folium) (1.23.0)\n",
      "Requirement already satisfied: urllib3<1.27,>=1.21.1 in c:\\users\\user\\anaconda\\lib\\site-packages (from requests->folium) (1.25.11)\n",
      "Requirement already satisfied: idna<4,>=2.5 in c:\\users\\user\\anaconda\\lib\\site-packages (from requests->folium) (2.10)\n",
      "Requirement already satisfied: charset-normalizer<4,>=2 in c:\\users\\user\\anaconda\\lib\\site-packages (from requests->folium) (3.0.1)\n",
      "Requirement already satisfied: certifi>=2017.4.17 in c:\\users\\user\\anaconda\\lib\\site-packages (from requests->folium) (2020.6.20)\n",
      "Requirement already satisfied: MarkupSafe>=0.23 in c:\\users\\user\\anaconda\\lib\\site-packages (from jinja2>=2.9->folium) (1.1.1)\n",
      "Installing collected packages: branca, folium\n",
      "Successfully installed branca-0.6.0 folium-0.14.0\n"
     ]
    }
   ],
   "source": [
    "!pip install folium\n"
   ]
  },
  {
   "cell_type": "code",
   "execution_count": 25,
   "metadata": {
    "execution": {
     "iopub.execute_input": "2021-03-02T05:12:34.412503Z",
     "iopub.status.busy": "2021-03-02T05:12:34.411729Z",
     "iopub.status.idle": "2021-03-02T05:12:34.762587Z",
     "shell.execute_reply": "2021-03-02T05:12:34.763734Z"
    },
    "papermill": {
     "duration": 0.387754,
     "end_time": "2021-03-02T05:12:34.763960",
     "exception": false,
     "start_time": "2021-03-02T05:12:34.376206",
     "status": "completed"
    },
    "tags": []
   },
   "outputs": [
    {
     "data": {
      "text/html": [
       "<div style=\"width:100%;\"><div style=\"position:relative;width:100%;height:0;padding-bottom:60%;\"><span style=\"color:#565656\">Make this Notebook Trusted to load map: File -> Trust Notebook</span><iframe srcdoc=\"&lt;!DOCTYPE html&gt;\n",
       "&lt;html&gt;\n",
       "&lt;head&gt;\n",
       "    \n",
       "    &lt;meta http-equiv=&quot;content-type&quot; content=&quot;text/html; charset=UTF-8&quot; /&gt;\n",
       "    \n",
       "        &lt;script&gt;\n",
       "            L_NO_TOUCH = false;\n",
       "            L_DISABLE_3D = false;\n",
       "        &lt;/script&gt;\n",
       "    \n",
       "    &lt;style&gt;html, body {width: 100%;height: 100%;margin: 0;padding: 0;}&lt;/style&gt;\n",
       "    &lt;style&gt;#map {position:absolute;top:0;bottom:0;right:0;left:0;}&lt;/style&gt;\n",
       "    &lt;script src=&quot;https://cdn.jsdelivr.net/npm/leaflet@1.9.3/dist/leaflet.js&quot;&gt;&lt;/script&gt;\n",
       "    &lt;script src=&quot;https://code.jquery.com/jquery-1.12.4.min.js&quot;&gt;&lt;/script&gt;\n",
       "    &lt;script src=&quot;https://cdn.jsdelivr.net/npm/bootstrap@5.2.2/dist/js/bootstrap.bundle.min.js&quot;&gt;&lt;/script&gt;\n",
       "    &lt;script src=&quot;https://cdnjs.cloudflare.com/ajax/libs/Leaflet.awesome-markers/2.0.2/leaflet.awesome-markers.js&quot;&gt;&lt;/script&gt;\n",
       "    &lt;link rel=&quot;stylesheet&quot; href=&quot;https://cdn.jsdelivr.net/npm/leaflet@1.9.3/dist/leaflet.css&quot;/&gt;\n",
       "    &lt;link rel=&quot;stylesheet&quot; href=&quot;https://cdn.jsdelivr.net/npm/bootstrap@5.2.2/dist/css/bootstrap.min.css&quot;/&gt;\n",
       "    &lt;link rel=&quot;stylesheet&quot; href=&quot;https://netdna.bootstrapcdn.com/bootstrap/3.0.0/css/bootstrap.min.css&quot;/&gt;\n",
       "    &lt;link rel=&quot;stylesheet&quot; href=&quot;https://cdn.jsdelivr.net/npm/@fortawesome/fontawesome-free@6.2.0/css/all.min.css&quot;/&gt;\n",
       "    &lt;link rel=&quot;stylesheet&quot; href=&quot;https://cdnjs.cloudflare.com/ajax/libs/Leaflet.awesome-markers/2.0.2/leaflet.awesome-markers.css&quot;/&gt;\n",
       "    &lt;link rel=&quot;stylesheet&quot; href=&quot;https://cdn.jsdelivr.net/gh/python-visualization/folium/folium/templates/leaflet.awesome.rotate.min.css&quot;/&gt;\n",
       "    \n",
       "            &lt;meta name=&quot;viewport&quot; content=&quot;width=device-width,\n",
       "                initial-scale=1.0, maximum-scale=1.0, user-scalable=no&quot; /&gt;\n",
       "            &lt;style&gt;\n",
       "                #map_292a218ade3b9a286feb2d6346578e5f {\n",
       "                    position: relative;\n",
       "                    width: 100.0%;\n",
       "                    height: 100.0%;\n",
       "                    left: 0.0%;\n",
       "                    top: 0.0%;\n",
       "                }\n",
       "                .leaflet-container { font-size: 1rem; }\n",
       "            &lt;/style&gt;\n",
       "        \n",
       "    &lt;script src=&quot;https://cdn.jsdelivr.net/npm/iso8601-js-period@0.2.1/iso8601.min.js&quot;&gt;&lt;/script&gt;\n",
       "    &lt;script src=&quot;https://cdn.jsdelivr.net/npm/leaflet-timedimension@1.1.1/dist/leaflet.timedimension.min.js&quot;&gt;&lt;/script&gt;\n",
       "    &lt;script src=&quot;https://cdn.jsdelivr.net/gh/python-visualization/folium/folium/templates/pa7_hm.min.js&quot;&gt;&lt;/script&gt;\n",
       "    &lt;script src=&quot;https://cdn.jsdelivr.net/gh/python-visualization/folium/folium/templates/pa7_leaflet_hm.min.js&quot;&gt;&lt;/script&gt;\n",
       "    &lt;link rel=&quot;stylesheet&quot; href=&quot;https://cdn.jsdelivr.net/npm/leaflet-timedimension@1.1.1/dist/leaflet.timedimension.control.css&quot;/&gt;\n",
       "    \n",
       "            &lt;script&gt;\n",
       "                var TDHeatmap = L.TimeDimension.Layer.extend({\n",
       "\n",
       "            initialize: function(data, options) {\n",
       "                var heatmapCfg = {\n",
       "                    radius: 15,\n",
       "                    blur: 0.8,\n",
       "                    maxOpacity: 1.,\n",
       "                    scaleRadius: false,\n",
       "                    useLocalExtrema: false,\n",
       "                    latField: &#x27;lat&#x27;,\n",
       "                    lngField: &#x27;lng&#x27;,\n",
       "                    valueField: &#x27;count&#x27;,\n",
       "                    defaultWeight : 1,\n",
       "                };\n",
       "                heatmapCfg = $.extend({}, heatmapCfg, options.heatmapOptions || {});\n",
       "                var layer = new HeatmapOverlay(heatmapCfg);\n",
       "                L.TimeDimension.Layer.prototype.initialize.call(this, layer, options);\n",
       "                this._currentLoadedTime = 0;\n",
       "                this._currentTimeData = {\n",
       "                    data: []\n",
       "                    };\n",
       "                this.data= data;\n",
       "                this.defaultWeight = heatmapCfg.defaultWeight || 1;\n",
       "            },\n",
       "            onAdd: function(map) {\n",
       "                L.TimeDimension.Layer.prototype.onAdd.call(this, map);\n",
       "                map.addLayer(this._baseLayer);\n",
       "                if (this._timeDimension) {\n",
       "                    this._getDataForTime(this._timeDimension.getCurrentTime());\n",
       "                }\n",
       "            },\n",
       "            _onNewTimeLoading: function(ev) {\n",
       "                this._getDataForTime(ev.time);\n",
       "                return;\n",
       "            },\n",
       "            isReady: function(time) {\n",
       "                return (this._currentLoadedTime == time);\n",
       "            },\n",
       "            _update: function() {\n",
       "                this._baseLayer.setData(this._currentTimeData);\n",
       "                return true;\n",
       "            },\n",
       "            _getDataForTime: function(time) {\n",
       "                    delete this._currentTimeData.data;\n",
       "                    this._currentTimeData.data = [];\n",
       "                    var data = this.data[time-1];\n",
       "                    for (var i = 0; i &lt; data.length; i++) {\n",
       "                        this._currentTimeData.data.push({\n",
       "                                lat: data[i][0],\n",
       "                                lng: data[i][1],\n",
       "                                count: data[i].length&gt;2 ? data[i][2] : this.defaultWeight\n",
       "                            });\n",
       "                        }\n",
       "                    this._currentLoadedTime = time;\n",
       "                    if (this._timeDimension &amp;&amp; time == this._timeDimension.getCurrentTime() &amp;&amp; !this._timeDimension.isLoading()) {\n",
       "                        this._update();\n",
       "                    }\n",
       "                    this.fire(&#x27;timeload&#x27;, {\n",
       "                        time: time\n",
       "                    });\n",
       "                }\n",
       "        });\n",
       "\n",
       "        L.Control.TimeDimensionCustom = L.Control.TimeDimension.extend({\n",
       "            initialize: function(index, options) {\n",
       "                var playerOptions = {\n",
       "                    buffer: 1,\n",
       "                    minBufferReady: -1\n",
       "                    };\n",
       "                options.playerOptions = $.extend({}, playerOptions, options.playerOptions || {});\n",
       "                L.Control.TimeDimension.prototype.initialize.call(this, options);\n",
       "                this.index = index;\n",
       "                },\n",
       "            _getDisplayDateFormat: function(date){\n",
       "                return this.index[date.getTime()-1];\n",
       "                }\n",
       "            });\n",
       "            &lt;/script&gt;\n",
       "                \n",
       "&lt;/head&gt;\n",
       "&lt;body&gt;\n",
       "    \n",
       "    \n",
       "            &lt;div class=&quot;folium-map&quot; id=&quot;map_292a218ade3b9a286feb2d6346578e5f&quot; &gt;&lt;/div&gt;\n",
       "        \n",
       "&lt;/body&gt;\n",
       "&lt;script&gt;\n",
       "    \n",
       "    \n",
       "            var map_292a218ade3b9a286feb2d6346578e5f = L.map(\n",
       "                &quot;map_292a218ade3b9a286feb2d6346578e5f&quot;,\n",
       "                {\n",
       "                    center: [13.12, 77.8],\n",
       "                    crs: L.CRS.EPSG3857,\n",
       "                    zoom: 10,\n",
       "                    zoomControl: true,\n",
       "                    preferCanvas: false,\n",
       "                }\n",
       "            );\n",
       "\n",
       "            \n",
       "\n",
       "        \n",
       "    \n",
       "            var tile_layer_04cc08ae8ef5a112651d041031cd78c5 = L.tileLayer(\n",
       "                &quot;https://{s}.tile.openstreetmap.org/{z}/{x}/{y}.png&quot;,\n",
       "                {&quot;attribution&quot;: &quot;Data by \\u0026copy; \\u003ca target=\\&quot;_blank\\&quot; href=\\&quot;http://openstreetmap.org\\&quot;\\u003eOpenStreetMap\\u003c/a\\u003e, under \\u003ca target=\\&quot;_blank\\&quot; href=\\&quot;http://www.openstreetmap.org/copyright\\&quot;\\u003eODbL\\u003c/a\\u003e.&quot;, &quot;detectRetina&quot;: false, &quot;maxNativeZoom&quot;: 18, &quot;maxZoom&quot;: 18, &quot;minZoom&quot;: 0, &quot;noWrap&quot;: false, &quot;opacity&quot;: 1, &quot;subdomains&quot;: &quot;abc&quot;, &quot;tms&quot;: false}\n",
       "            ).addTo(map_292a218ade3b9a286feb2d6346578e5f);\n",
       "        \n",
       "    \n",
       "\n",
       "            var times = [1, 2, 3, 4, 5, 6, 7, 8, 9, 10, 11, 12, 13, 14, 15, 16, 17, 18, 19, 20, 21, 22, 23, 24];\n",
       "\n",
       "            map_292a218ade3b9a286feb2d6346578e5f.timeDimension = L.timeDimension(\n",
       "                {times : times, currentTime: new Date(1)}\n",
       "            );\n",
       "\n",
       "            var heat_map_cbc4313f4da44e9263875a2f70ad061eControl = new L.Control.TimeDimensionCustom([&#x27;1&#x27;, &#x27;2&#x27;, &#x27;3&#x27;, &#x27;4&#x27;, &#x27;5&#x27;, &#x27;6&#x27;, &#x27;7&#x27;, &#x27;8&#x27;, &#x27;9&#x27;, &#x27;10&#x27;, &#x27;11&#x27;, &#x27;12&#x27;, &#x27;13&#x27;, &#x27;14&#x27;, &#x27;15&#x27;, &#x27;16&#x27;, &#x27;17&#x27;, &#x27;18&#x27;, &#x27;19&#x27;, &#x27;20&#x27;, &#x27;21&#x27;, &#x27;22&#x27;, &#x27;23&#x27;, &#x27;24&#x27;], {\n",
       "                autoPlay: true,\n",
       "                backwardButton: true,\n",
       "                displayDate: true,\n",
       "                forwardButton: true,\n",
       "                limitMinimumRange: 5,\n",
       "                limitSliders: true,\n",
       "                loopButton: true,\n",
       "                maxSpeed: 10,\n",
       "                minSpeed: 0.1,\n",
       "                playButton: true,\n",
       "                playReverseButton: true,\n",
       "                position: &quot;bottomright&quot;,\n",
       "                speedSlider: true,\n",
       "                speedStep: 0.1,\n",
       "                styleNS: &quot;leaflet-control-timecontrol&quot;,\n",
       "                timeSlider: true,\n",
       "                timeSliderDrapUpdate: false,\n",
       "                timeSteps: 1\n",
       "                })\n",
       "                .addTo(map_292a218ade3b9a286feb2d6346578e5f);\n",
       "\n",
       "                var heat_map_cbc4313f4da44e9263875a2f70ad061e = new TDHeatmap([[], [], [], [], [], [], [], [], [], [], [], [], [[13.1557417, 77.601504], [13.0277588, 77.5987964], [13.1337371, 77.5937944], [13.0741422, 77.6850085], [13.208293, 77.6646068], [13.124961, 77.6569083], [13.1949846, 77.5945885]], [[13.1527119, 77.6836231], [13.1195633, 77.5842921], [13.2245008, 77.6683133], [13.165858, 77.6627689], [13.1212952, 77.5533811], [13.1373459, 77.5949414], [13.0718167, 77.6598341], [13.0186005, 77.6675632], [13.1684946, 77.6764757], [13.1911768, 77.6479403]], [[13.2311017, 77.7054541], [13.2135128, 77.590781], [13.1473178, 77.6476542], [13.1322351, 77.6943819], [13.1021508, 77.6949036], [13.2365065, 77.693792], [13.1427781, 77.6915602], [13.1143547, 77.7006167], [13.1161751, 77.5906848], [13.1631831, 77.6067975], [13.2301899, 77.6979974], [13.0915817, 77.6536829]], [[13.2120608, 77.6998756], [13.0767763, 77.7042326], [13.1723385, 77.6620798], [13.1489531, 77.593651], [13.1416146, 77.6812269], [13.099348, 77.6326509], [13.2425201, 77.6790448], [13.1264796, 77.6502092], [13.2291385, 77.5615716], [13.1523845, 77.7019891], [13.1324132, 77.5721686], [13.0770054, 77.7051441], [13.2347121, 77.6336393], [13.0701176, 77.5644093]], [[13.0157233, 77.6282509], [13.1834983, 77.6142176], [13.0826863, 77.5552731], [13.2223969, 77.6528281], [13.0508392, 77.6720238], [13.1196144, 77.6835993], [13.1764806, 77.6193964]], [[13.0489629, 77.5934593], [13.0122178, 77.5979828], [13.0932315, 77.5968721], [13.1802384, 77.5654353], [13.1482102, 77.6433252], [13.1858826, 77.6713301]], [[13.2244016, 77.6509132], [13.0245701, 77.7016673], [13.1339981, 77.6052929], [13.1972994, 77.6573416], [13.2148203, 77.5942046], [13.0102837, 77.7022628]], [[13.0370289, 77.7026797], [13.2062349, 77.5952451], [13.1807515, 77.7044039], [13.1275096, 77.5874724], [13.0864946, 77.608463], [13.218727, 77.6655651], [13.1401623, 77.5925943], [13.126296, 77.5627483], [13.0254008, 77.5956911]], [[13.1460048, 77.694831], [13.1023446, 77.6201972], [13.1052884, 77.6387677], [13.0224267, 77.6597966], [13.0720764, 77.6448257], [13.1972535, 77.6813406], [13.2410581, 77.6323702], [13.1855125, 77.5615038], [13.0915609, 77.6666303]], [[13.1637157, 77.5628422], [13.2485907, 77.6136422], [13.1172665, 77.6287845], [13.0557012, 77.6287195]], [[13.0903683, 77.561579], [13.2478885, 77.6825586], [13.0278957, 77.7009044], [13.2120474, 77.6866381], [13.0162714, 77.6180376], [13.0118922, 77.6298446], [13.2320953, 77.580273]], [[13.0604557, 77.6538071], [13.1199324, 77.6003416], [13.0474302, 77.6535994], [13.2496455, 77.6037114], [13.0256411, 77.6877398], [13.1150789, 77.6979914], [13.195825, 77.6322817], [13.2105555, 77.7020588], [13.057201, 77.5721872]]],\n",
       "                {heatmapOptions: {\n",
       "                        radius: 15,\n",
       "                        blur: 0.8,\n",
       "                        minOpacity: 0,\n",
       "                        maxOpacity: 0.6,\n",
       "                        scaleRadius: false,\n",
       "                        useLocalExtrema: false,\n",
       "                        defaultWeight: 1,\n",
       "                        \n",
       "                    }\n",
       "                })\n",
       "                .addTo(map_292a218ade3b9a286feb2d6346578e5f);\n",
       "\n",
       "        \n",
       "&lt;/script&gt;\n",
       "&lt;/html&gt;\" style=\"position:absolute;width:100%;height:100%;left:0;top:0;border:none !important;\" allowfullscreen webkitallowfullscreen mozallowfullscreen></iframe></div></div>"
      ],
      "text/plain": [
       "<folium.folium.Map at 0x1f56201d820>"
      ]
     },
     "execution_count": 25,
     "metadata": {},
     "output_type": "execute_result"
    }
   ],
   "source": [
    "import folium\n",
    "from folium.plugins import HeatMapWithTime\n",
    "fig7=Figure(width=850,height=550)\n",
    "m7=folium.Map(location=[13.12, 77.8],zoom_start=10)\n",
    "HeatMapWithTime(lat_long_list,radius=15,auto_play=True,position='bottomright').add_to(m7)\n",
    "m7"
   ]
  },
  {
   "cell_type": "code",
   "execution_count": null,
   "metadata": {},
   "outputs": [],
   "source": [
    "#the function identifies the individuals in the same clusters as the input name (excluding the input name itself) \n",
    "#and adds their names to a list called \"infected_names\". "
   ]
  },
  {
   "cell_type": "code",
   "execution_count": 25,
   "metadata": {},
   "outputs": [],
   "source": [
    "def get_infected_names(input_name):\n",
    "\n",
    "    epsilon = 5.721 # a radial distance of 6 feet in kilometers\n",
    "    model = DBSCAN(eps=epsilon, min_samples=3, metric='haversine').fit(df[['latitude', 'longitude']])\n",
    "    df['cluster'] = model.labels_.tolist()\n",
    "    print(\"hi\")\n",
    "    input_name_clusters = []\n",
    "    for i in range(len(df)):\n",
    "#         print(\"hi1\")\n",
    "        if df['id'][i] == input_name:\n",
    "            if df['cluster'][i] in input_name_clusters:\n",
    "                pass\n",
    "            else:\n",
    "                input_name_clusters.append(df['cluster'][i])\n",
    "    \n",
    "    infected_names = []\n",
    "    for cluster in input_name_clusters:\n",
    "        if cluster != -1:\n",
    "            ids_in_cluster = df.loc[df['cluster'] == cluster, 'id']\n",
    "            for i in range(len(ids_in_cluster)):\n",
    "                member_id = ids_in_cluster.iloc[i]\n",
    "#                 print(\"hi1\")\n",
    "                if (member_id not in infected_names) and (member_id != input_name):\n",
    "                    infected_names.append(member_id)\n",
    "                else:\n",
    "                    pass\n",
    "    \n",
    "    return infected_names\n",
    "# epsilon = 0.0018288 # a radi"
   ]
  },
  {
   "cell_type": "code",
   "execution_count": 26,
   "metadata": {
    "scrolled": true
   },
   "outputs": [
    {
     "name": "stdout",
     "output_type": "stream",
     "text": [
      "hi\n",
      "['Frank', 'Carol', 'Ivan', 'Erin', 'Bob', 'Grace', 'Alice', 'Judy', 'Heidi']\n"
     ]
    }
   ],
   "source": [
    "print(get_infected_names('David'))"
   ]
  },
  {
   "cell_type": "code",
   "execution_count": 22,
   "metadata": {},
   "outputs": [
    {
     "data": {
      "text/plain": [
       "0     David\n",
       "1     David\n",
       "2     Frank\n",
       "3     Carol\n",
       "4      Ivan\n",
       "      ...  \n",
       "95     Judy\n",
       "96      Bob\n",
       "97    Grace\n",
       "98      Bob\n",
       "99    Alice\n",
       "Name: id, Length: 100, dtype: object"
      ]
     },
     "execution_count": 22,
     "metadata": {},
     "output_type": "execute_result"
    }
   ],
   "source": [
    "df.id\n",
    "#I changed epsilion value from some value to 5.721\n",
    "#i changed min samples value to 3,100"
   ]
  },
  {
   "cell_type": "code",
   "execution_count": null,
   "metadata": {},
   "outputs": [],
   "source": []
  },
  {
   "cell_type": "code",
   "execution_count": null,
   "metadata": {},
   "outputs": [],
   "source": []
  },
  {
   "cell_type": "code",
   "execution_count": null,
   "metadata": {},
   "outputs": [],
   "source": []
  },
  {
   "cell_type": "code",
   "execution_count": 20,
   "metadata": {},
   "outputs": [
    {
     "name": "stdout",
     "output_type": "stream",
     "text": [
      "[1, 9, 25, 49, 81]\n"
     ]
    }
   ],
   "source": [
    "a=4\n",
    "b=5\n",
    "#\n",
    "#iterate from 1 to 10.\n",
    "l1=[]\n",
    "for i in range(1,11):\n",
    "    if i%2==0:\n",
    "        pass\n",
    "    else:\n",
    "        l1.append(i**2)\n",
    "print(l1)\n",
    "#pass works as an if loop stmt.ctrl moves to next iteration .either if or else gets executed."
   ]
  },
  {
   "cell_type": "code",
   "execution_count": 23,
   "metadata": {},
   "outputs": [],
   "source": [
    "def get_infected_names(input_name):\n",
    "    epsilon = 0.0018288\n",
    "     # a radial distance of 6 feet in kilometers\n",
    "    model = DBSCAN(eps=epsilon, min_samples=2, metric='haversine').fit(df[['latitude', 'longitude']])\n",
    "    df['cluster'] = model.labels_.tolist()\n",
    "    print(\"hi\")\n",
    "    input_name_clusters = []\n",
    "    print(df)\n",
    "    return None\n",
    "    "
   ]
  },
  {
   "cell_type": "code",
   "execution_count": 24,
   "metadata": {
    "scrolled": true
   },
   "outputs": [
    {
     "name": "stdout",
     "output_type": "stream",
     "text": [
      "hi\n",
      "       id           timestamp   latitude  longitude  cluster  hour\n",
      "0   David 2020-07-04 15:35:30  13.148953  77.593651       -1    16\n",
      "1   David 2020-07-04 16:35:30  13.222397  77.652828       -1    17\n",
      "2   Frank 2020-07-04 14:35:30  13.236507  77.693792       -1    15\n",
      "3   Carol 2020-07-04 21:35:30  13.163716  77.562842       -1    22\n",
      "4    Ivan 2020-07-04 22:35:30  13.232095  77.580273       -1    23\n",
      "..    ...                 ...        ...        ...      ...   ...\n",
      "95   Judy 2020-07-04 16:35:30  13.176481  77.619396       -1    17\n",
      "96    Bob 2020-07-04 15:35:30  13.172339  77.662080       -1    16\n",
      "97  Grace 2020-07-04 23:35:30  13.115079  77.697991       -1    24\n",
      "98    Bob 2020-07-04 19:35:30  13.180751  77.704404       -1    20\n",
      "99  Alice 2020-07-04 19:35:30  13.206235  77.595245       -1    20\n",
      "\n",
      "[100 rows x 6 columns]\n"
     ]
    }
   ],
   "source": [
    "get_infected_names('David')"
   ]
  },
  {
   "cell_type": "code",
   "execution_count": null,
   "metadata": {},
   "outputs": [],
   "source": [
    "#we can cluster the dp of lat and long columns using DBSCAn algorithm.no need to calculate the distance.\n",
    "#your assumption that DBSCAN uses a distance matrix is wrong:"
   ]
  },
  {
   "cell_type": "code",
   "execution_count": null,
   "metadata": {},
   "outputs": [],
   "source": [
    "\n",
    "\n"
   ]
  },
  {
   "cell_type": "code",
   "execution_count": null,
   "metadata": {},
   "outputs": [],
   "source": [
    "#Clustering analysis or simply Clustering is basically an Unsupervised learning method\n",
    "that divides the data points into a number of specific batches or groups, such that the data points \n",
    "in the same groups have similar properties and data points in different groups have different properties "
   ]
  },
  {
   "cell_type": "code",
   "execution_count": null,
   "metadata": {},
   "outputs": [],
   "source": [
    "#DBSCAN (distance between nearest points)"
   ]
  },
  {
   "cell_type": "code",
   "execution_count": null,
   "metadata": {},
   "outputs": [],
   "source": []
  }
 ],
 "metadata": {
  "kernelspec": {
   "display_name": "Python 3",
   "language": "python",
   "name": "python3"
  },
  "language_info": {
   "codemirror_mode": {
    "name": "ipython",
    "version": 3
   },
   "file_extension": ".py",
   "mimetype": "text/x-python",
   "name": "python",
   "nbconvert_exporter": "python",
   "pygments_lexer": "ipython3",
   "version": "3.8.5"
  },
  "papermill": {
   "default_parameters": {},
   "duration": 20.225756,
   "end_time": "2021-03-02T05:12:35.503373",
   "environment_variables": {},
   "exception": null,
   "input_path": "__notebook__.ipynb",
   "output_path": "__notebook__.ipynb",
   "parameters": {},
   "start_time": "2021-03-02T05:12:15.277617",
   "version": "2.2.2"
  }
 },
 "nbformat": 4,
 "nbformat_minor": 4
}
